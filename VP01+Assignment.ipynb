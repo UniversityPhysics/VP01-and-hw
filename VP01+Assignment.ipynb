{
 "cells": [
  {
   "cell_type": "markdown",
   "metadata": {},
   "source": [
    "# VP01 Introduction to python + visual"
   ]
  },
  {
   "cell_type": "markdown",
   "metadata": {},
   "source": [
    "## Objectives\n",
    "\n",
    "In this course you will construct computational models to predict and display the motion of interacting objects in 3D using the python computer programming language, which is the tool of choice for many professional engineers, scientists, and data scientists. Don't panic. It is assumed that you know nothing about computer programming. The reason that python is the tool of choice for so many professionals is because it is so simple and powerful. \n",
    "\n",
    "To easily perform vector algebra and generate 3D graphics, we will add the \"visual\" module, and the combination of Python + visual is often called \"VPython\" for short  (http://vpython.org). VPython will be very convenient for vector calculations in your homework! \n",
    "\n",
    "You don't need to install anything. My official recommendation is for you to simply use the web-based editor at http://Glowscript.org to avoid the frustrations students may face with installing a python distribution (there are several) on their particular computer. Create an account with your school email address. Some students may prefer to install Python on their computer, not asking for technical support, in which case I'd recommend Anaconda and the Jupyter notebook environment. See the instructions at http://vpython.org.\n",
    "\n",
    "\n",
    "After completing this activity you should be able to:\n",
    "1. Use Glowscript.org, an interactive editor for VPython (or the tool of your choice, but you are on your own)\n",
    "2. Write a simple VPython program\n",
    "3. Create 3D objects such as spheres and arrows\n",
    "4. Use vectors in VPython\n",
    "\n",
    "You should finish this activity in about 50 minutes.\n"
   ]
  },
  {
   "cell_type": "markdown",
   "metadata": {},
   "source": [
    "## What is a Computer Program?\n",
    "\n",
    "You have seen short computer programs, written in VPython, in Chapter 1 of the textbook. The important things to understand about a computer program are:\n",
    "\n",
    "* A computer program consists of a sequence of instructions that describe a calculation. \n",
    "* A sequence means the order matters. The computer carries out the instructions one by one, in the order in which they appear, and stops when it reaches the end. When the computer reads a= b+1 on line 10, it does not know that on line 201 you will define b=1. \n",
    "* In computer programming, the instruction `a=b` does not mean the same thing as the statement $a=b$ in math class. The computer instruction `a=b` means \"store the value of b in the memory address for a\". For instance, `a=a+1` is a perfectly valid instruction for a computer. You can instruct the computer to check whether a is equal to b with `a==b`, but the statement that \"a is equal to b\" is not an instruction.\n"
   ]
  },
  {
   "cell_type": "markdown",
   "metadata": {},
   "source": [
    "## Your First Program: Creating 3D Objects\n",
    "If using glowscript, \n",
    "1. login to http://Glowscript.org (a Southern Adventist University email address already has a Google account, so you can log in with your school email/password). Click on your user name: for some reason, that's what you need to do to access your programs.\n",
    "2. Click on the Public tab so you can share your program with me. \n",
    "3. Create a folder for these assigments, called VP01\n",
    "4. Click \"Create a new program\". Name it \"P68\" (problem 68 in your book)\n",
    "\n",
    "1. Watch the first VPython instructional video \"VPython Instructional Videos: 1. 3D Objects\" http://vpython.org/video01.html demonstrating how to easily create 3D objects in VPython. \n",
    "2. Complete the challenge task presented at the end of the video. To do this, you will need to create a new program using the Glowscript.org editor.\n",
    "\n",
    "If you are not using Glowscript, make sure you start with the the line \n",
    "```\n",
    "from visual import *\n",
    "```\n",
    "which tells the program to use the 3D module (called \"visual\"). The asterisk means, \"Add to Python all of the features available in the visual module\".\\\\\n",
    "\n",
    "\n",
    "## More about VPython\n",
    "### Zooming and Rotating\n",
    "\n",
    "By default the origin $\\langle 0,0,0\\rangle$ is at the center of the scene, and the \"camera\" (that is, your point of view) is looking directly at the origin. When you first run the program, the coordinate system has the $+x$ direction to the right, the $+y$ direction pointing up, and the $+z$ direction coming out of the screen toward you. This is the same convention used in the textbook. \n",
    "1. On a two-button mouse, hold down both mouse buttons and move the mouse up and down to make the camera move closer or farther away from the center of the scene. (On a one-button mouse, hold down the ALT key and the mouse button.) }\n",
    "2. On a two-button mouse, hold down the right mouse button alone and move the mouse to make the camera \"revolve\" around the scene, while always looking at the center. (On a one-button mouse, hold down CTRL and the mouse button.)}\n",
    "\n",
    "\n",
    "\n",
    "### Finding and Fixing Errors\n",
    "\n",
    "Everyone makes errors when programming--you may already have made one or more errors in the process of creating your first program.  During the course of your work with VPython you will need to find and fix two different kinds of errors:\n",
    "\n",
    "* Syntax Errors\n",
    "* Math, Physics, or Logic Errors\n",
    "\n",
    "Both kinds of errors are similar to errors you may make when working pencil and paper problems using a calculator.  Errors made entering expressions into your calculator are syntax errors.  Using an inappropriate or incorrect equation, or trying to divide a scalar by a vector, is a physics or math error.\n",
    "\n",
    "Common syntax errors include \n",
    "1. Typos and spelling errors\n",
    "2. Missing commas, colons, equal signs, etc.\n",
    "3. Unmatched parentheses () or braces {} \n",
    "4. Missing tabs\n",
    "\n",
    "1. Watch the VPython instructional video\"VPython Instructional Videos: A. Debugging Syntax Errors \"\\\\ http://vpython.org/videoA.html which illustrates some common errors.\n",
    "2. Try modifying your program to introduce some of the common errors shown in the video.\\\\\n",
    "\n",
    "\n",
    "### The Python Shell Window\n",
    "\n",
    "Red error messages appear in the Python Shell window. An error message in the Shell window typically consists of four lines of red text.  The information you need is in the bottom line -- read the bottom line first. \n",
    "\n",
    "### Comments\n",
    "\n",
    "Comment lines start with a `#` \"pound sign\".\n",
    "A comment line can be a note to yourself, such as:\n",
    "``` # Make a vector arrow from a to b \n",
    "```\n",
    "\n",
    "Or a comment can be used to remove a line of code temporarily, without erasing it. \n",
    "\n",
    "You can also put a comment at the end of a line: \n",
    "``` sphere() # fancy name for ball \n",
    "```\n",
    "\n",
    "\n",
    "\n",
    "### Print Command\n",
    "\n",
    "1. Start a new line at the end of your program and type:\n",
    "```\n",
    "print(object.attribute)\n",
    "```\n",
    "\n",
    "Replace `object.attribute` with the name of one of your 3D objects and one of the valid attributes associated with that object. For example, if you want to print the position attribute of a sphere named ball, it would look like this:\n",
    "```\n",
    "print(ball.pos)\n",
    "```\n",
    "\n",
    "2. Run the program, and look at the Shell window.  You should see the value printed there.\n",
    "\n",
    "\n",
    "### HELP!\n",
    "You can easily access the reference manual for VPython by clicking \"Help\" in the top-right corner of Glowscript, or going to http://www.glowscript.org/docs/VPythonDocs/index.html. If you are interested you can also choose \"Python Docs\" to obtain detailed information on the Python programming language upon which VPython is based. We will use only a small subset of Python's extensive capabilities; you can learn what you need from the \\MI textbook and the VPython videos."
   ]
  },
  {
   "cell_type": "markdown",
   "metadata": {
    "collapsed": true
   },
   "source": [
    "## Also do these homework assignments\n",
    "Also do the following problems from your book: \n",
    "\n",
    "* Complete problem 69 in your book. I'd name that file P69. \n",
    "* P72\n",
    "* P74\n",
    "\n",
    "## How do I turn this stuff in?\n",
    "\n",
    "If using Glowscript, you'll submit these assignments to VP01 in e-class like this\n",
    "\n",
    "P68: http://www.glowscript.org/#/user/laing/folder/Public/program/P68\n",
    "first question: \"yes, I do think it's cool to learn python\"\n",
    "\n",
    "P69: http://www.glowscript.org/#/user/laing/folder/Public/program/P69\n",
    "\n",
    "Please notice that if your URL says Private instead of Public, then I cannot grade your work. A URL like http://www.glowscript.org/#/user/laing/folder/Private/program/P69."
   ]
  },
  {
   "cell_type": "code",
   "execution_count": null,
   "metadata": {
    "collapsed": true
   },
   "outputs": [],
   "source": []
  },
  {
   "cell_type": "code",
   "execution_count": null,
   "metadata": {
    "collapsed": true
   },
   "outputs": [],
   "source": []
  }
 ],
 "metadata": {
  "kernelspec": {
   "display_name": "Python 3",
   "language": "python",
   "name": "python3"
  },
  "language_info": {
   "codemirror_mode": {
    "name": "ipython",
    "version": 3
   },
   "file_extension": ".py",
   "mimetype": "text/x-python",
   "name": "python",
   "nbconvert_exporter": "python",
   "pygments_lexer": "ipython3",
   "version": "3.6.3"
  }
 },
 "nbformat": 4,
 "nbformat_minor": 2
}
